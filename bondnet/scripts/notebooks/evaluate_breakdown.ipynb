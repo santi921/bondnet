{
 "cells": [
  {
   "cell_type": "code",
   "execution_count": 111,
   "metadata": {},
   "outputs": [
    {
     "ename": "ModuleNotFoundError",
     "evalue": "No module named 'seaborn'",
     "output_type": "error",
     "traceback": [
      "\u001b[0;31m---------------------------------------------------------------------------\u001b[0m",
      "\u001b[0;31mModuleNotFoundError\u001b[0m                       Traceback (most recent call last)",
      "Cell \u001b[0;32mIn[111], line 9\u001b[0m\n\u001b[1;32m      7\u001b[0m \u001b[38;5;28;01mimport\u001b[39;00m \u001b[38;5;21;01mpandas\u001b[39;00m \u001b[38;5;28;01mas\u001b[39;00m \u001b[38;5;21;01mpd\u001b[39;00m\n\u001b[1;32m      8\u001b[0m \u001b[38;5;28;01mfrom\u001b[39;00m \u001b[38;5;21;01mtorch\u001b[39;00m\u001b[38;5;21;01m.\u001b[39;00m\u001b[38;5;21;01mutils\u001b[39;00m\u001b[38;5;21;01m.\u001b[39;00m\u001b[38;5;21;01mdata\u001b[39;00m \u001b[38;5;28;01mimport\u001b[39;00m DataLoader\n\u001b[0;32m----> 9\u001b[0m \u001b[38;5;28;01mimport\u001b[39;00m \u001b[38;5;21;01mseaborn\u001b[39;00m \u001b[38;5;28;01mas\u001b[39;00m \u001b[38;5;21;01msns\u001b[39;00m\n\u001b[1;32m     10\u001b[0m \u001b[38;5;28;01mimport\u001b[39;00m \u001b[38;5;21;01mpytorch_lightning\u001b[39;00m \u001b[38;5;28;01mas\u001b[39;00m \u001b[38;5;21;01mpl\u001b[39;00m\n\u001b[1;32m     12\u001b[0m \u001b[38;5;28;01mimport\u001b[39;00m \u001b[38;5;21;01mmatplotlib\u001b[39;00m\u001b[38;5;21;01m.\u001b[39;00m\u001b[38;5;21;01mpyplot\u001b[39;00m \u001b[38;5;28;01mas\u001b[39;00m \u001b[38;5;21;01mplt\u001b[39;00m\n",
      "\u001b[0;31mModuleNotFoundError\u001b[0m: No module named 'seaborn'"
     ]
    }
   ],
   "source": [
    "import numpy as np\n",
    "from bondnet.model.metric import WeightedL1Loss, WeightedMSELoss, WeightedSmoothL1Loss\n",
    "from torchmetrics import R2Score\n",
    "\n",
    "import json\n",
    "import torch\n",
    "import pandas as pd\n",
    "from torch.utils.data import DataLoader\n",
    "import pytorch_lightning as pl\n",
    "\n",
    "import matplotlib.pyplot as plt\n",
    "\n",
    "#import seaborn as sns\n",
    "#sns.set(style=\"whitegrid\")\n",
    "\n",
    "\n",
    "from bondnet.data.dataset import ReactionDatasetGraphs\n",
    "\n",
    "from bondnet.model.gated_reaction_network_lightning import (\n",
    "    GatedGCNReactionNetworkLightning,\n",
    ")\n",
    "\n",
    "from bondnet.utils import seed_torch, pickle_dump, parse_settings\n",
    "from bondnet.model.training_utils import (\n",
    "    evaluate_breakdown,\n",
    "    get_grapher,\n",
    "    load_model_lightning,\n",
    ")\n",
    "from bondnet.data.dataloader import DataLoaderReaction\n",
    "from bondnet.model.metric import WeightedL1Loss, WeightedMSELoss, WeightedSmoothL1Loss"
   ]
  },
  {
   "cell_type": "code",
   "execution_count": 2,
   "metadata": {},
   "outputs": [],
   "source": [
    "def get_dataset(\n",
    "    train_path=\"/home/santiagovargas/dev/bondnet/bondnet/dataset/HEPOM/final_processed/hydro_test.json\",\n",
    "    test_path=\"/home/santiagovargas/dev/bondnet/bondnet/dataset/HEPOM/final_processed/hydro_test.json\",\n",
    "):\n",
    "    # train_df_path = \"../../dataset/Training_set_HEPoP_after_filtering.json\"\n",
    "    # test_df_path = \"/home/rdguha95/Holdout_test_set_HEPoP_after_filtering.json\"\n",
    "    train_df = pd.read_json(train_path)\n",
    "    test_df = pd.read_json(test_path)\n",
    "    frames = [train_df, test_df]\n",
    "    full_df = pd.concat(frames)\n",
    "    full_df.reset_index(inplace=True)\n",
    "    full_df.drop(columns=\"index\", inplace=True)\n",
    "    full_df = full_df.drop_duplicates(subset=[\"reaction_id\"])\n",
    "    full_df = full_df.reset_index(drop=True)\n",
    "    return full_df, test_df, train_df\n",
    "\n",
    "\n",
    "full_df, test_df, train_df = get_dataset()"
   ]
  },
  {
   "cell_type": "code",
   "execution_count": 3,
   "metadata": {},
   "outputs": [],
   "source": [
    "#test_df[\"functional_group_reacted\"] = test_df[\n",
    "#    \"extra_feat_global_reactant_functional_group_reacted\"\n",
    "#]\n",
    "# test_df[\"extra_feat_global_product_functional_group_reacted\"] = [None] * len(test_df)"
   ]
  },
  {
   "cell_type": "code",
   "execution_count": 4,
   "metadata": {},
   "outputs": [],
   "source": [
    "torch.set_float32_matmul_precision(\"high\")\n",
    "from bondnet.test_utils import get_defaults\n",
    "\n",
    "config = get_defaults()\n",
    "config[\"model\"][\"extra_features\"] = [\"bond_length\", \"functional_group_reacted\"]\n",
    "config[\"model\"][\"extra_features\"] = [\"bond_length\"]"
   ]
  },
  {
   "cell_type": "code",
   "execution_count": 5,
   "metadata": {},
   "outputs": [
    {
     "name": "stdout",
     "output_type": "stream",
     "text": [
      "ls: cannot access '../../dataset/HEPOM/Holdout_test_set_HEPoP_after_filtering.json': No such file or directory\n"
     ]
    }
   ],
   "source": [
    "! ls ../../dataset/HEPOM/Holdout_test_set_HEPoP_after_filtering.json"
   ]
  },
  {
   "cell_type": "code",
   "execution_count": 9,
   "metadata": {},
   "outputs": [
    {
     "data": {
      "text/plain": [
       "(959, 53)"
      ]
     },
     "execution_count": 9,
     "metadata": {},
     "output_type": "execute_result"
    }
   ],
   "source": [
    "train_df.shape"
   ]
  },
  {
   "cell_type": "code",
   "execution_count": 76,
   "metadata": {},
   "outputs": [
    {
     "name": "stdout",
     "output_type": "stream",
     "text": [
      "fg_list ['PDK', 'amide', 'carbamate', 'carboxylic acid ester', 'cyclic carbonate', 'epoxide', 'imide', 'lactam', 'lactone', 'nitrile', 'urea']\n",
      "reading file from: /home/santiagovargas/dev/bondnet/bondnet/dataset/HEPOM/final_training_sets/Filtered_test_set_alchemy_qm9_after_r1_training.json\n",
      "rxn raw len: 100\n",
      "Program finished in 1.9448189539834857 seconds\n",
      ".............failures.............\n",
      "reactions len: 100\n",
      "valid ind len: 100\n",
      "bond break fail count: \t\t0\n",
      "default fail count: \t\t0\n",
      "sdf map fail count: \t\t0\n",
      "product bond fail count: \t0\n",
      "about to group and organize\n",
      "number of grouped reactions: 100\n",
      "---> generating grouped reactions\n"
     ]
    },
    {
     "name": "stderr",
     "output_type": "stream",
     "text": [
      "grouped reactions: 100%|██████████| 100/100 [00:03<00:00, 28.84it/s]\n"
     ]
    },
    {
     "name": "stdout",
     "output_type": "stream",
     "text": [
      "--> generating labels\n"
     ]
    },
    {
     "name": "stderr",
     "output_type": "stream",
     "text": [
      "labeled reactions: 100%|██████████| 100/100 [00:00<00:00, 21606.76it/s]\n"
     ]
    },
    {
     "name": "stdout",
     "output_type": "stream",
     "text": [
      "features: 362\n",
      "labels: 100\n",
      "molecules: 362\n",
      "constructing graphs & features....\n"
     ]
    },
    {
     "name": "stderr",
     "output_type": "stream",
     "text": [
      "mol graphs: 100%|██████████| 362/362 [00:00<00:00, 375.74it/s]"
     ]
    },
    {
     "name": "stdout",
     "output_type": "stream",
     "text": [
      "number of graphs valid: 362\n",
      "number of graphs: 362\n"
     ]
    },
    {
     "name": "stderr",
     "output_type": "stream",
     "text": [
      "\n"
     ]
    }
   ],
   "source": [
    "dataset = ReactionDatasetGraphs(\n",
    "    grapher=get_grapher(\n",
    "        {\n",
    "        \"atom\":[], \n",
    "        \"bond\" : [\"bond_length\"],\n",
    "        \"global\": [\"functional_group_reacted\"]\n",
    "        }, \n",
    "        #allowed_charges=[-1, 0, 1], \n",
    "        allowed_spin=None\n",
    "    ),\n",
    "    file=\"/home/santiagovargas/dev/bondnet/bondnet/dataset/HEPOM/final_training_sets/Filtered_test_set_alchemy_qm9_after_r1_training.json\",\n",
    "    target=\"dG_sp\",\n",
    "    classifier=False,\n",
    "    classif_categories=3,\n",
    "    filter_species=[10, 10],\n",
    "    filter_outliers=False,\n",
    "    filter_sparse_rxns=False,\n",
    "    debug=True,\n",
    "    extra_keys={\n",
    "        \"bond\": [\n",
    "          \"bond_length\"\n",
    "        ]\n",
    "      },\n",
    "    species=[\"C\", \"F\", \"H\", \"N\", \"O\", \"Mg\", \"Li\", \"S\", \"Cl\", \"P\", \"O\", \"Br\"],\n",
    "    extra_info=[\"functional_group_reacted\"],\n",
    ")\n",
    "test_dataset_loader = DataLoaderReaction(\n",
    "    dataset, batch_size=len(dataset), shuffle=False\n",
    ")"
   ]
  },
  {
   "cell_type": "code",
   "execution_count": 79,
   "metadata": {},
   "outputs": [
    {
     "data": {
      "text/plain": [
       "Dataset ReactionDatasetGraphs\n",
       "Length: 100\n",
       "Feature: atom, size: 20\n",
       "Feature: bond, size: 8\n",
       "Feature: global, size: 14\n",
       "Feature: atom, name: ['total_degree', 'total_H', 'is_in_ring', 'ring_size_3', 'ring_size_4', 'ring_size_5', 'ring_size_6', 'ring_size_7', 'chemical_symbol_C', 'chemical_symbol_F', 'chemical_symbol_H', 'chemical_symbol_N', 'chemical_symbol_O', 'chemical_symbol_Mg', 'chemical_symbol_Li', 'chemical_symbol_S', 'chemical_symbol_Cl', 'chemical_symbol_P', 'chemical_symbol_O', 'chemical_symbol_Br']\n",
       "Feature: bond, name: ['metal bond', 'ring inclusion', 'ring size_3', 'ring size_4', 'ring size_5', 'ring size_6', 'ring size_7', 'bond_length']\n",
       "Feature: global, name: ['num atoms', 'num bonds', 'molecule weight', 'hydrolysed functional group', 'hydrolysed functional group', 'hydrolysed functional group', 'hydrolysed functional group', 'hydrolysed functional group', 'hydrolysed functional group', 'hydrolysed functional group', 'hydrolysed functional group', 'hydrolysed functional group', 'hydrolysed functional group', 'hydrolysed functional group']"
      ]
     },
     "execution_count": 79,
     "metadata": {},
     "output_type": "execute_result"
    }
   ],
   "source": [
    "dataset"
   ]
  },
  {
   "cell_type": "code",
   "execution_count": 80,
   "metadata": {},
   "outputs": [
    {
     "data": {
      "text/plain": [
       "'lactone'"
      ]
     },
     "execution_count": 80,
     "metadata": {},
     "output_type": "execute_result"
    }
   ],
   "source": [
    "dataset.molecules[0].functional_group"
   ]
  },
  {
   "cell_type": "code",
   "execution_count": null,
   "metadata": {},
   "outputs": [],
   "source": []
  },
  {
   "cell_type": "code",
   "execution_count": 93,
   "metadata": {},
   "outputs": [
    {
     "name": "stdout",
     "output_type": "stream",
     "text": [
      ":::RESTORING MODEL FROM EXISTING FILE:::\n",
      "NB: using GatedGCNConv\n",
      "NB: using Attention\n",
      ":::MODEL LOADED:::\n"
     ]
    },
    {
     "data": {
      "text/plain": [
       "GatedGCNReactionNetworkLightning(\n",
       "  (embedding): UnifySize(\n",
       "    (linears): ModuleDict(\n",
       "      (atom): Linear(in_features=20, out_features=16, bias=False)\n",
       "      (bond): Linear(in_features=8, out_features=16, bias=False)\n",
       "      (global): Linear(in_features=14, out_features=16, bias=False)\n",
       "    )\n",
       "  )\n",
       "  (gated_layers): ModuleList(\n",
       "    (0): GatedGCNConv(\n",
       "      (activation): ReLU()\n",
       "      (A): LinearN(\n",
       "        (fc_layers): ModuleList(\n",
       "          (0): Linear(in_features=16, out_features=256, bias=True)\n",
       "          (1): Identity()\n",
       "        )\n",
       "      )\n",
       "      (B): LinearN(\n",
       "        (fc_layers): ModuleList(\n",
       "          (0): Linear(in_features=16, out_features=256, bias=True)\n",
       "          (1): Identity()\n",
       "        )\n",
       "      )\n",
       "      (C): LinearN(\n",
       "        (fc_layers): ModuleList(\n",
       "          (0): Linear(in_features=16, out_features=256, bias=True)\n",
       "          (1): Identity()\n",
       "        )\n",
       "      )\n",
       "      (D): LinearN(\n",
       "        (fc_layers): ModuleList(\n",
       "          (0): Linear(in_features=16, out_features=256, bias=True)\n",
       "          (1): Identity()\n",
       "        )\n",
       "      )\n",
       "      (E): LinearN(\n",
       "        (fc_layers): ModuleList(\n",
       "          (0): Linear(in_features=16, out_features=256, bias=True)\n",
       "          (1): Identity()\n",
       "        )\n",
       "      )\n",
       "      (F): LinearN(\n",
       "        (fc_layers): ModuleList(\n",
       "          (0): Linear(in_features=16, out_features=256, bias=True)\n",
       "          (1): Identity()\n",
       "        )\n",
       "      )\n",
       "      (G): LinearN(\n",
       "        (fc_layers): ModuleList(\n",
       "          (0): Linear(in_features=256, out_features=256, bias=True)\n",
       "          (1): Identity()\n",
       "        )\n",
       "      )\n",
       "      (H): LinearN(\n",
       "        (fc_layers): ModuleList(\n",
       "          (0): Linear(in_features=256, out_features=256, bias=True)\n",
       "          (1): Identity()\n",
       "        )\n",
       "      )\n",
       "      (I): LinearN(\n",
       "        (fc_layers): ModuleList(\n",
       "          (0): Linear(in_features=16, out_features=256, bias=True)\n",
       "          (1): Identity()\n",
       "        )\n",
       "      )\n",
       "      (bn_node_h): BatchNorm1d(256, eps=1e-05, momentum=0.1, affine=True, track_running_stats=True)\n",
       "      (bn_node_e): BatchNorm1d(256, eps=1e-05, momentum=0.1, affine=True, track_running_stats=True)\n",
       "      (bn_node_u): BatchNorm1d(256, eps=1e-05, momentum=0.1, affine=True, track_running_stats=True)\n",
       "      (dropout): Dropout(p=0.2, inplace=False)\n",
       "    )\n",
       "    (1): GatedGCNConv(\n",
       "      (activation): ReLU()\n",
       "      (A): LinearN(\n",
       "        (fc_layers): ModuleList(\n",
       "          (0): Linear(in_features=256, out_features=256, bias=True)\n",
       "          (1): Identity()\n",
       "        )\n",
       "      )\n",
       "      (B): LinearN(\n",
       "        (fc_layers): ModuleList(\n",
       "          (0): Linear(in_features=256, out_features=256, bias=True)\n",
       "          (1): Identity()\n",
       "        )\n",
       "      )\n",
       "      (C): LinearN(\n",
       "        (fc_layers): ModuleList(\n",
       "          (0): Linear(in_features=256, out_features=256, bias=True)\n",
       "          (1): Identity()\n",
       "        )\n",
       "      )\n",
       "      (D): LinearN(\n",
       "        (fc_layers): ModuleList(\n",
       "          (0): Linear(in_features=256, out_features=256, bias=True)\n",
       "          (1): Identity()\n",
       "        )\n",
       "      )\n",
       "      (E): LinearN(\n",
       "        (fc_layers): ModuleList(\n",
       "          (0): Linear(in_features=256, out_features=256, bias=True)\n",
       "          (1): Identity()\n",
       "        )\n",
       "      )\n",
       "      (F): LinearN(\n",
       "        (fc_layers): ModuleList(\n",
       "          (0): Linear(in_features=256, out_features=256, bias=True)\n",
       "          (1): Identity()\n",
       "        )\n",
       "      )\n",
       "      (G): LinearN(\n",
       "        (fc_layers): ModuleList(\n",
       "          (0): Linear(in_features=256, out_features=256, bias=True)\n",
       "          (1): Identity()\n",
       "        )\n",
       "      )\n",
       "      (H): LinearN(\n",
       "        (fc_layers): ModuleList(\n",
       "          (0): Linear(in_features=256, out_features=256, bias=True)\n",
       "          (1): Identity()\n",
       "        )\n",
       "      )\n",
       "      (I): LinearN(\n",
       "        (fc_layers): ModuleList(\n",
       "          (0): Linear(in_features=256, out_features=256, bias=True)\n",
       "          (1): Identity()\n",
       "        )\n",
       "      )\n",
       "      (bn_node_h): BatchNorm1d(256, eps=1e-05, momentum=0.1, affine=True, track_running_stats=True)\n",
       "      (bn_node_e): BatchNorm1d(256, eps=1e-05, momentum=0.1, affine=True, track_running_stats=True)\n",
       "      (bn_node_u): BatchNorm1d(256, eps=1e-05, momentum=0.1, affine=True, track_running_stats=True)\n",
       "      (dropout): Dropout(p=0.2, inplace=False)\n",
       "    )\n",
       "  )\n",
       "  (readout_layer): GlobalAttentionPoolingThenCat(\n",
       "    (gate_nn): ModuleDict(\n",
       "      (atom): Linear(in_features=256, out_features=1, bias=True)\n",
       "      (bond): Linear(in_features=256, out_features=1, bias=True)\n",
       "    )\n",
       "  )\n",
       "  (fc_layers): ModuleList(\n",
       "    (0): Linear(in_features=768, out_features=512, bias=True)\n",
       "    (1): BatchNorm1d(512, eps=1e-05, momentum=0.1, affine=True, track_running_stats=True)\n",
       "    (2): ReLU()\n",
       "    (3): Dropout(p=0.1, inplace=False)\n",
       "    (4): Linear(in_features=512, out_features=256, bias=True)\n",
       "    (5): BatchNorm1d(256, eps=1e-05, momentum=0.1, affine=True, track_running_stats=True)\n",
       "    (6): ReLU()\n",
       "    (7): Dropout(p=0.1, inplace=False)\n",
       "    (8): Linear(in_features=256, out_features=128, bias=True)\n",
       "    (9): BatchNorm1d(128, eps=1e-05, momentum=0.1, affine=True, track_running_stats=True)\n",
       "    (10): ReLU()\n",
       "    (11): Dropout(p=0.1, inplace=False)\n",
       "    (12): Linear(in_features=128, out_features=1, bias=True)\n",
       "  )\n",
       "  (loss): MeanAbsoluteError()\n",
       "  (train_r2): R2Score()\n",
       "  (train_torch_l1): MeanAbsoluteError()\n",
       "  (train_torch_mse): MeanSquaredError()\n",
       "  (val_r2): R2Score()\n",
       "  (val_torch_l1): MeanAbsoluteError()\n",
       "  (val_torch_mse): MeanSquaredError()\n",
       "  (test_r2): R2Score()\n",
       "  (test_torch_l1): MeanAbsoluteError()\n",
       "  (test_torch_mse): MeanSquaredError()\n",
       ")"
      ]
     },
     "execution_count": 93,
     "metadata": {},
     "output_type": "execute_result"
    }
   ],
   "source": [
    "config[\"restore\"] = True\n",
    "model_path = \"/home/santiagovargas/Downloads/model_lightning_epoch=332-val_l1=2.13.ckpt\"\n",
    "config[\"restore_path\"] = model_path\n",
    "model_restart = load_model_lightning(config, load_dir=model_path)\n",
    "# load model to gpu\n",
    "model_restart.cuda()"
   ]
  },
  {
   "cell_type": "code",
   "execution_count": 94,
   "metadata": {},
   "outputs": [],
   "source": [
    "# load first batch from data loader \n",
    "batched_graph, label, batch_data = next(iter(test_dataset_loader))"
   ]
  },
  {
   "cell_type": "code",
   "execution_count": 95,
   "metadata": {},
   "outputs": [
    {
     "data": {
      "text/plain": [
       "dict_keys(['batched_rxn_graphs', 'batched_atom_reactant', 'batched_atom_product', 'batched_bond_reactant', 'batched_bond_product', 'batched_global_reactant', 'batched_global_product', 'global_batch_indices_reactant', 'global_batch_indices_product'])"
      ]
     },
     "execution_count": 95,
     "metadata": {},
     "output_type": "execute_result"
    }
   ],
   "source": [
    "batch_data.keys()"
   ]
  },
  {
   "cell_type": "code",
   "execution_count": 96,
   "metadata": {},
   "outputs": [
    {
     "data": {
      "text/plain": [
       "tensor([[ 0.6481],\n",
       "        [ 0.8826],\n",
       "        [-2.7667],\n",
       "        [ 0.4363],\n",
       "        [ 1.3924],\n",
       "        [-1.8224],\n",
       "        [ 1.0205],\n",
       "        [-1.3181],\n",
       "        [-2.6607],\n",
       "        [ 0.3613],\n",
       "        [ 0.3590],\n",
       "        [ 0.4994],\n",
       "        [-0.8560],\n",
       "        [-0.8101],\n",
       "        [ 0.5317],\n",
       "        [ 0.6116],\n",
       "        [ 0.7880],\n",
       "        [ 0.8818],\n",
       "        [-1.0728],\n",
       "        [ 0.0843],\n",
       "        [ 0.9279],\n",
       "        [-1.3140],\n",
       "        [ 0.5210],\n",
       "        [ 1.8093],\n",
       "        [ 0.2960],\n",
       "        [ 0.7561],\n",
       "        [ 0.4450],\n",
       "        [ 1.0929],\n",
       "        [ 0.7213],\n",
       "        [-1.0156],\n",
       "        [ 0.9704],\n",
       "        [ 0.2681],\n",
       "        [-0.5975],\n",
       "        [ 0.7530],\n",
       "        [-0.3979],\n",
       "        [ 0.2036],\n",
       "        [-0.8105],\n",
       "        [ 1.0851],\n",
       "        [ 0.2489],\n",
       "        [ 0.5822],\n",
       "        [-1.3018],\n",
       "        [ 0.4910],\n",
       "        [ 0.8581],\n",
       "        [ 0.3564],\n",
       "        [ 0.8813],\n",
       "        [ 0.6967],\n",
       "        [ 1.2944],\n",
       "        [ 0.5906],\n",
       "        [-0.7926],\n",
       "        [ 0.5662],\n",
       "        [ 1.0802],\n",
       "        [ 1.5175],\n",
       "        [ 0.3862],\n",
       "        [ 0.6919],\n",
       "        [-0.0918],\n",
       "        [-0.9755],\n",
       "        [ 0.6216],\n",
       "        [ 0.5508],\n",
       "        [-0.9542],\n",
       "        [-1.6572],\n",
       "        [-1.9779],\n",
       "        [ 0.4253],\n",
       "        [ 0.7083],\n",
       "        [ 0.2959],\n",
       "        [ 1.1642],\n",
       "        [ 0.2795],\n",
       "        [ 0.1537],\n",
       "        [-0.8608],\n",
       "        [-0.7625],\n",
       "        [ 0.5843],\n",
       "        [-0.9495],\n",
       "        [ 1.2717],\n",
       "        [ 0.2573],\n",
       "        [-1.5476],\n",
       "        [ 0.0694],\n",
       "        [ 0.7314],\n",
       "        [-0.8326],\n",
       "        [ 0.8738],\n",
       "        [-1.9842],\n",
       "        [ 0.5717],\n",
       "        [ 0.6757],\n",
       "        [ 0.3064],\n",
       "        [-1.4918],\n",
       "        [-0.7567],\n",
       "        [ 1.0035],\n",
       "        [-1.2518],\n",
       "        [-0.6093],\n",
       "        [-1.0790],\n",
       "        [-2.2670],\n",
       "        [-0.8993],\n",
       "        [-1.4665],\n",
       "        [-1.0983],\n",
       "        [-0.4951],\n",
       "        [ 0.9602],\n",
       "        [ 0.3565],\n",
       "        [ 0.5495],\n",
       "        [ 0.5311],\n",
       "        [ 0.4722],\n",
       "        [ 0.5355],\n",
       "        [-0.9923]])"
      ]
     },
     "execution_count": 96,
     "metadata": {},
     "output_type": "execute_result"
    }
   ],
   "source": [
    "label['value']"
   ]
  },
  {
   "cell_type": "code",
   "execution_count": 106,
   "metadata": {},
   "outputs": [],
   "source": [
    "def evaluate(model, nodes, data_loader, device=None):\n",
    "    \"\"\"\n",
    "    basic loop for training a classifier. Gets mae\n",
    "\n",
    "    Args:\n",
    "        model(pytorch model): pytorch model\n",
    "        nodes(dict): node feature dictionary\n",
    "        data_loader(loader obj): loader object with data to eval\n",
    "        device(str): cpu/gpu\n",
    "    Returns:\n",
    "        mae(float): mae\n",
    "    \"\"\"\n",
    "    metric_fn = WeightedL1Loss(reduction=\"sum\")\n",
    "    model.eval()\n",
    "\n",
    "    dict_result_raw = {}\n",
    "    print(\"model device\", next(model.parameters()).device)\n",
    "    with torch.no_grad():\n",
    "        count, mae, mae_no_std = 0.0, 0.0, 0.0\n",
    "        for batched_graph, label, batch_data in data_loader:\n",
    "            nodes = [\"atom\", \"bond\", \"global\"]\n",
    "            feats = {nt: batched_graph.nodes[nt].data[\"ft\"] for nt in nodes}\n",
    "            target = label[\"value\"].view(-1)\n",
    "            target_aug = label[\"value_rev\"].view(-1)\n",
    "            empty_aug = torch.isnan(target_aug).tolist()\n",
    "            empty_aug = True in empty_aug\n",
    "            \n",
    "            norm_atom = label[\"norm_atom\"]\n",
    "            norm_bond = label[\"norm_bond\"]\n",
    "            stdev = label[\"scaler_stdev\"]\n",
    "            mean = label[\"scaler_mean\"]\n",
    "            reactions = len(target)\n",
    "            \n",
    "\n",
    "            feats = {k: v.to(device) for k, v in feats.items()}\n",
    "            target = target.to(device)\n",
    "            norm_atom = norm_atom.to(device)\n",
    "            norm_bond = norm_bond.to(device)\n",
    "            stdev = stdev.to(device)\n",
    "            batched_graph = batched_graph.to(device)\n",
    "            batch_data[\"global_batch_indices_reactant\"] = batch_data[\"global_batch_indices_reactant\"].to(device)\n",
    "            batch_data[\"global_batch_indices_product\"] = batch_data[\"global_batch_indices_product\"].to(device)\n",
    "            batch_data[\"batched_global_reactant\"] = batch_data[\"batched_global_reactant\"].to(device)\n",
    "            batch_data[\"batched_global_product\"] = batch_data[\"batched_global_product\"].to(device)\n",
    "            batch_data[\"batched_bond_product\"] = batch_data[\"batched_bond_product\"].to(device)\n",
    "            batch_data[\"batched_bond_reactant\"] = batch_data[\"batched_bond_reactant\"].to(device)\n",
    "            batch_data[\"batched_rxn_graphs\"] = batch_data[\"batched_rxn_graphs\"].to(device)\n",
    "            \n",
    "            pred = model(\n",
    "                graph=batched_graph,\n",
    "                feats=feats,\n",
    "                reactions=reactions,\n",
    "                reverse=False,\n",
    "                norm_bond=norm_bond,\n",
    "                norm_atom=norm_atom,\n",
    "                batch_data=batch_data\n",
    "            )\n",
    "\n",
    "            pred = pred.view(-1)\n",
    "\n",
    "            if device is None:\n",
    "                pred_np = pred.detach().numpy()\n",
    "                target_np = target.detach().numpy()\n",
    "                stdev_np = stdev.detach().numpy()\n",
    "            else:\n",
    "                pred_np = pred.detach().cpu().numpy()\n",
    "                target_np = target.detach().cpu().numpy()\n",
    "                stdev_np = stdev.detach().cpu().numpy()\n",
    "\n",
    "            t1 = torch.tensor(pred_np)\n",
    "            t2 = torch.tensor(target_np)\n",
    "            t2 = t2.squeeze()\n",
    "            r2score = R2Score()\n",
    "            sc = r2score(t1, t2)\n",
    "            target_np = target_np.reshape(-1)\n",
    "            x = pred_np * stdev_np\n",
    "            y = target_np * stdev_np\n",
    "            print(x.shape, y.shape)\n",
    "            # plt.scatter(pred_np, target_np)\n",
    "            plt.scatter(x, y)\n",
    "            df_pred = pd.DataFrame([x, y, stdev_np])\n",
    "\n",
    "            # Show each performance with scatter plots\n",
    "            # sns.scatterplot(x=pred_np * stdev_np,y=target_np * stdev_np, palette=\"Set3\", inner=\"points\", bw =.2, cut=2, linewidth=3)\n",
    "\n",
    "            min_val = (\n",
    "                np.min([np.min(pred_np * stdev_np), np.min(target_np * stdev_np)]) - 0.5\n",
    "            )\n",
    "            max_val = (\n",
    "                np.max([np.max(pred_np * stdev_np), np.max(target_np * stdev_np)]) + 0.5\n",
    "            )\n",
    "            plt.ylim(min_val, max_val)\n",
    "            plt.xlim(min_val, max_val)\n",
    "            # plt.ylim(-10, 10)\n",
    "            # plt.xlim(-10, 10)\n",
    "            plt.title(\"Predicted vs. True\")\n",
    "            plt.xlabel(\"Predicted\")\n",
    "            plt.ylabel(\"True\")\n",
    "            plt.grid(False)\n",
    "            # plt.savefig(\"./{}.png\".format(\"test_best\"))\n",
    "\n",
    "            mae += metric_fn(pred, target, stdev).detach().item()\n",
    "            mae_no_std += metric_fn(pred, target, None).detach().item()\n",
    "            count += len(target)\n",
    "\n",
    "    l1_acc = mae / count\n",
    "    l1_acc_no_std = mae_no_std / count\n",
    "    return l1_acc, l1_acc_no_std, sc, df_pred"
   ]
  },
  {
   "cell_type": "code",
   "execution_count": 107,
   "metadata": {},
   "outputs": [
    {
     "name": "stdout",
     "output_type": "stream",
     "text": [
      "model device cuda:0\n",
      "(100,) (100,)\n"
     ]
    },
    {
     "data": {
      "image/png": "[encoded data removed]",
      "text/plain": [
       "<Figure size 640x480 with 1 Axes>"
      ]
     },
     "metadata": {},
     "output_type": "display_data"
    }
   ],
   "source": [
    "feature_names = [\"atom\", \"bond\", \"global\"]\n",
    "device = torch.device(\"cuda\" if torch.cuda.is_available() else \"cpu\")\n",
    "l1, l1_no_std, sc, df_pred = evaluate(\n",
    "    model_restart, feature_names, test_dataset_loader, device=device\n",
    ")"
   ]
  },
  {
   "cell_type": "code",
   "execution_count": 108,
   "metadata": {},
   "outputs": [],
   "source": [
    "sns_data = df_pred.T\n",
    "sns_data = sns_data.rename(\n",
    "    columns={\n",
    "        0: \"bondnet_prediction\",\n",
    "        1: \"dft_value\",\n",
    "        2: \"std_dev\",\n",
    "        3: \"functional_group_reacted\",\n",
    "    }\n",
    ")"
   ]
  },
  {
   "cell_type": "code",
   "execution_count": 109,
   "metadata": {},
   "outputs": [
    {
     "data": {
      "text/html": [
       "<div>\n",
       "<style scoped>\n",
       "    .dataframe tbody tr th:only-of-type {\n",
       "        vertical-align: middle;\n",
       "    }\n",
       "\n",
       "    .dataframe tbody tr th {\n",
       "        vertical-align: top;\n",
       "    }\n",
       "\n",
       "    .dataframe thead th {\n",
       "        text-align: right;\n",
       "    }\n",
       "</style>\n",
       "<table border=\"1\" class=\"dataframe\">\n",
       "  <thead>\n",
       "    <tr style=\"text-align: right;\">\n",
       "      <th></th>\n",
       "      <th>bondnet_prediction</th>\n",
       "      <th>dft_value</th>\n",
       "      <th>std_dev</th>\n",
       "    </tr>\n",
       "  </thead>\n",
       "  <tbody>\n",
       "    <tr>\n",
       "      <th>0</th>\n",
       "      <td>5.491992</td>\n",
       "      <td>5.506320</td>\n",
       "      <td>8.495594</td>\n",
       "    </tr>\n",
       "    <tr>\n",
       "      <th>1</th>\n",
       "      <td>7.487467</td>\n",
       "      <td>7.498469</td>\n",
       "      <td>8.495594</td>\n",
       "    </tr>\n",
       "    <tr>\n",
       "      <th>2</th>\n",
       "      <td>-4.586574</td>\n",
       "      <td>-23.504667</td>\n",
       "      <td>8.495594</td>\n",
       "    </tr>\n",
       "    <tr>\n",
       "      <th>3</th>\n",
       "      <td>-36.070778</td>\n",
       "      <td>3.706886</td>\n",
       "      <td>8.495594</td>\n",
       "    </tr>\n",
       "    <tr>\n",
       "      <th>4</th>\n",
       "      <td>7.917357</td>\n",
       "      <td>11.829668</td>\n",
       "      <td>8.495594</td>\n",
       "    </tr>\n",
       "    <tr>\n",
       "      <th>...</th>\n",
       "      <td>...</td>\n",
       "      <td>...</td>\n",
       "      <td>...</td>\n",
       "    </tr>\n",
       "    <tr>\n",
       "      <th>95</th>\n",
       "      <td>6.783750</td>\n",
       "      <td>4.668174</td>\n",
       "      <td>8.495594</td>\n",
       "    </tr>\n",
       "    <tr>\n",
       "      <th>96</th>\n",
       "      <td>7.818124</td>\n",
       "      <td>4.511726</td>\n",
       "      <td>8.495594</td>\n",
       "    </tr>\n",
       "    <tr>\n",
       "      <th>97</th>\n",
       "      <td>-38.477917</td>\n",
       "      <td>4.011274</td>\n",
       "      <td>8.495594</td>\n",
       "    </tr>\n",
       "    <tr>\n",
       "      <th>98</th>\n",
       "      <td>6.497774</td>\n",
       "      <td>4.549021</td>\n",
       "      <td>8.495594</td>\n",
       "    </tr>\n",
       "    <tr>\n",
       "      <th>99</th>\n",
       "      <td>-36.630070</td>\n",
       "      <td>-8.430331</td>\n",
       "      <td>8.495594</td>\n",
       "    </tr>\n",
       "  </tbody>\n",
       "</table>\n",
       "<p>100 rows × 3 columns</p>\n",
       "</div>"
      ],
      "text/plain": [
       "    bondnet_prediction  dft_value   std_dev\n",
       "0             5.491992   5.506320  8.495594\n",
       "1             7.487467   7.498469  8.495594\n",
       "2            -4.586574 -23.504667  8.495594\n",
       "3           -36.070778   3.706886  8.495594\n",
       "4             7.917357  11.829668  8.495594\n",
       "..                 ...        ...       ...\n",
       "95            6.783750   4.668174  8.495594\n",
       "96            7.818124   4.511726  8.495594\n",
       "97          -38.477917   4.011274  8.495594\n",
       "98            6.497774   4.549021  8.495594\n",
       "99          -36.630070  -8.430331  8.495594\n",
       "\n",
       "[100 rows x 3 columns]"
      ]
     },
     "execution_count": 109,
     "metadata": {},
     "output_type": "execute_result"
    }
   ],
   "source": [
    "sns_data"
   ]
  },
  {
   "cell_type": "code",
   "execution_count": 110,
   "metadata": {},
   "outputs": [
    {
     "ename": "NameError",
     "evalue": "name 'sns' is not defined",
     "output_type": "error",
     "traceback": [
      "\u001b[0;31m---------------------------------------------------------------------------\u001b[0m",
      "\u001b[0;31mNameError\u001b[0m                                 Traceback (most recent call last)",
      "Cell \u001b[0;32mIn[110], line 2\u001b[0m\n\u001b[1;32m      1\u001b[0m f, ax \u001b[38;5;241m=\u001b[39m plt\u001b[38;5;241m.\u001b[39msubplots(figsize\u001b[38;5;241m=\u001b[39m(\u001b[38;5;241m8\u001b[39m, \u001b[38;5;241m8\u001b[39m))\n\u001b[0;32m----> 2\u001b[0m \u001b[43msns\u001b[49m\u001b[38;5;241m.\u001b[39mset(style\u001b[38;5;241m=\u001b[39m\u001b[38;5;124m\"\u001b[39m\u001b[38;5;124mwhitegrid\u001b[39m\u001b[38;5;124m\"\u001b[39m)\n\u001b[1;32m      3\u001b[0m ax \u001b[38;5;241m=\u001b[39m sns\u001b[38;5;241m.\u001b[39mscatterplot(\n\u001b[1;32m      4\u001b[0m     x\u001b[38;5;241m=\u001b[39m\u001b[38;5;124m\"\u001b[39m\u001b[38;5;124mdft_value\u001b[39m\u001b[38;5;124m\"\u001b[39m,\n\u001b[1;32m      5\u001b[0m     y\u001b[38;5;241m=\u001b[39m\u001b[38;5;124m\"\u001b[39m\u001b[38;5;124mbondnet_prediction\u001b[39m\u001b[38;5;124m\"\u001b[39m,\n\u001b[0;32m   (...)\u001b[0m\n\u001b[1;32m      9\u001b[0m     color\u001b[38;5;241m=\u001b[39msns\u001b[38;5;241m.\u001b[39mxkcd_rgb[\u001b[38;5;124m\"\u001b[39m\u001b[38;5;124mburnt yellow\u001b[39m\u001b[38;5;124m\"\u001b[39m],\n\u001b[1;32m     10\u001b[0m )\n\u001b[1;32m     13\u001b[0m f\u001b[38;5;241m.\u001b[39msuptitle(\u001b[38;5;124m\"\u001b[39m\u001b[38;5;124mHoldout Test Set performance\u001b[39m\u001b[38;5;124m\"\u001b[39m, fontsize\u001b[38;5;241m=\u001b[39m\u001b[38;5;241m18\u001b[39m, fontweight\u001b[38;5;241m=\u001b[39m\u001b[38;5;124m\"\u001b[39m\u001b[38;5;124mbold\u001b[39m\u001b[38;5;124m\"\u001b[39m)\n",
      "\u001b[0;31mNameError\u001b[0m: name 'sns' is not defined"
     ]
    },
    {
     "data": {
      "image/png": "[encoded data removed]",
      "text/plain": [
       "<Figure size 800x800 with 1 Axes>"
      ]
     },
     "metadata": {},
     "output_type": "display_data"
    }
   ],
   "source": [
    "f, ax = plt.subplots(figsize=(8, 8))\n",
    "sns.set(style=\"whitegrid\")\n",
    "ax = sns.scatterplot(\n",
    "    x=\"dft_value\",\n",
    "    y=\"bondnet_prediction\",\n",
    "    data=sns_data,\n",
    "    marker=\"o\",\n",
    "    s=25,\n",
    "    color=sns.xkcd_rgb[\"burnt yellow\"],\n",
    ")\n",
    "\n",
    "\n",
    "f.suptitle(\"Holdout Test Set performance\", fontsize=18, fontweight=\"bold\")\n",
    "ax.set_xlabel(\"Predicted Value (kcal/mol)\", size=20, alpha=1, weight=\"bold\")\n",
    "ax.set_ylabel(\"DFT Value (kcal/mol)\", size=20, alpha=1, weight=\"bold\")\n",
    "ax.set_xlim(-70, 70)\n",
    "ax.set_ylim(-70, 70)\n",
    "\n",
    "ax.set_yticklabels(ax.get_yticks(), size=15)\n",
    "ax.set_xticklabels(ax.get_xticks(), size=15)\n",
    "plt.grid(False)\n",
    "X_plot = np.linspace(-70, 70, 100)\n",
    "Y_plot = X_plot\n",
    "plt.plot(X_plot, Y_plot, \"k--\")\n",
    "plt.show()"
   ]
  },
  {
   "cell_type": "code",
   "execution_count": 94,
   "metadata": {},
   "outputs": [],
   "source": [
    "adj_factor = sns_data[\"dft_value\"][0] - test_df[\"dG_sp\"][0]\n",
    "sns_data[\"mean_shifted_dft\"] = sns_data[\"dft_value\"] - adj_factor\n",
    "sns_data[\"deviation\"] = abs(sns_data[\"dft_value\"] - sns_data[\"bondnet_prediction\"])"
   ]
  },
  {
   "cell_type": "code",
   "execution_count": 95,
   "metadata": {},
   "outputs": [
    {
     "name": "stderr",
     "output_type": "stream",
     "text": [
      "/home/santiagovargas/anaconda3/envs/bondnet/lib/python3.7/site-packages/ipykernel_launcher.py:51: UserWarning: FixedFormatter should only be used together with FixedLocator\n",
      "/home/santiagovargas/anaconda3/envs/bondnet/lib/python3.7/site-packages/ipykernel_launcher.py:52: UserWarning: FixedFormatter should only be used together with FixedLocator\n"
     ]
    },
    {
     "data": {
      "image/png": "[encoded data removed]",
      "text/plain": [
       "<Figure size 800x800 with 1 Axes>"
      ]
     },
     "metadata": {},
     "output_type": "display_data"
    }
   ],
   "source": [
    "f, ax = plt.subplots(figsize=(8, 8))\n",
    "sns.set(style=\"whitegrid\")\n",
    "\n",
    "sns.set_palette(\"pastel\")\n",
    "sns_ten_fg_subset = sns_data[\n",
    "    sns_data[\"functional_group_reacted\"].isin(\n",
    "        [\n",
    "            \"epoxide\",\n",
    "            \"lactone\",\n",
    "            \"nitrile\",\n",
    "            \"amide\",\n",
    "            \"lactam\",\n",
    "            \"carboxylic acid ester\",\n",
    "            \"urea\",\n",
    "            \"imide\",\n",
    "            \"carbamate\",\n",
    "            \"cyclic carbonate\",\n",
    "        ]\n",
    "    )\n",
    "]\n",
    "ax = sns.scatterplot(\n",
    "    x=\"dft_value\",\n",
    "    y=\"bondnet_prediction\",\n",
    "    data=sns_ten_fg_subset,\n",
    "    marker=\"o\",\n",
    "    hue=\"functional_group_reacted\",\n",
    "    palette=[\n",
    "        sns.xkcd_rgb[\"french blue\"],\n",
    "        sns.xkcd_rgb[\"violet\"],\n",
    "        sns.xkcd_rgb[\"sky blue\"],\n",
    "        sns.xkcd_rgb[\"light rose\"],\n",
    "        sns.xkcd_rgb[\"orange\"],\n",
    "        sns.xkcd_rgb[\"tomato\"],\n",
    "        sns.xkcd_rgb[\"light magenta\"],\n",
    "        sns.xkcd_rgb[\"light green\"],\n",
    "        sns.xkcd_rgb[\"brown\"],\n",
    "        sns.xkcd_rgb[\"burnt yellow\"],\n",
    "    ],\n",
    ")\n",
    "f.suptitle(\"Unseen holdout test\", y=0.95, fontsize=20)\n",
    "\n",
    "ax.set_xlabel(\"DFT Value (kcal/mol)\", size=20, alpha=1, weight=\"bold\")\n",
    "ax.set_ylabel(\"Predicted Value (kcal/mol)\", size=20, alpha=1, weight=\"bold\")\n",
    "ax.set_xlim(-60, 60)\n",
    "ax.set_ylim(-60, 60)\n",
    "\n",
    "\n",
    "legend = ax.legend(loc=\"upper left\", title=\"Functional Group Reacted\")\n",
    "legend.get_title().set_fontsize(\"12\")  # Set font size\n",
    "legend.get_title().set_fontweight(\"bold\")  # Set font weight\n",
    "ax.set_yticklabels(ax.get_yticks(), size=15, weight=\"bold\")\n",
    "ax.set_xticklabels(ax.get_xticks(), size=15, weight=\"bold\")\n",
    "plt.grid(False)\n",
    "X_plot = np.linspace(-60, 60, 100)\n",
    "Y_plot = X_plot\n",
    "plt.plot(X_plot, Y_plot, \"k--\")\n",
    "plt.savefig(\"Holdout_test_set.png\", dpi=600)\n",
    "plt.show()"
   ]
  },
  {
   "cell_type": "code",
   "execution_count": 96,
   "metadata": {},
   "outputs": [
    {
     "data": {
      "text/plain": [
       "functional_group_reacted\n",
       "amide                    2.927018\n",
       "carbamate                3.159985\n",
       "carboxylic acid ester    4.631908\n",
       "cyclic carbonate         5.466601\n",
       "epoxide                  2.230058\n",
       "imide                    5.668079\n",
       "lactam                   3.205710\n",
       "lactone                  2.950805\n",
       "nitrile                  2.234941\n",
       "urea                     3.641541\n",
       "Name: deviation, dtype: float64"
      ]
     },
     "execution_count": 96,
     "metadata": {},
     "output_type": "execute_result"
    }
   ],
   "source": [
    "# compute the mean absolute error of each functional group\n",
    "fg_mae = sns_ten_fg_subset.groupby(\"functional_group_reacted\").mean()[\"deviation\"]\n",
    "fg_mae"
   ]
  },
  {
   "cell_type": "code",
   "execution_count": 97,
   "metadata": {},
   "outputs": [
    {
     "name": "stdout",
     "output_type": "stream",
     "text": [
      "2.832208740234375\n"
     ]
    }
   ],
   "source": [
    "fg_mae = sns_ten_fg_subset[\"deviation\"].mean()\n",
    "print(fg_mae)"
   ]
  },
  {
   "cell_type": "code",
   "execution_count": 53,
   "metadata": {},
   "outputs": [
    {
     "name": "stdout",
     "output_type": "stream",
     "text": [
      "cyclic carbonate:\t\t0.9109202027320862\n",
      "carbamate:\t\t\t-0.2536332607269287\n",
      "epoxide:\t\t\t0.2048945426940918\n",
      "nitrile:\t\t\t0.4921509623527527\n",
      "amide:\t\t\t\t0.6561521291732788\n",
      "lactam:\t\t\t\t0.7521530389785767\n",
      "carboxylic acid ester:\t\t-1.6891429424285889\n",
      "lactone:\t\t\t0.7262470722198486\n",
      "urea:\t\t\t\t0.20291763544082642\n",
      "imide:\t\t\t\t-3.1580452919006348\n"
     ]
    }
   ],
   "source": [
    "for functional_group in list(\n",
    "    set(sns_ten_fg_subset[\"functional_group_reacted\"].tolist())\n",
    "):\n",
    "    # get the subset of the data for each functional group\n",
    "    fg_subset = sns_ten_fg_subset[\n",
    "        sns_ten_fg_subset[\"functional_group_reacted\"] == functional_group\n",
    "    ]\n",
    "    # compute r2 between dft and bondnet prediction\n",
    "    t1 = torch.tensor(fg_subset[\"bondnet_prediction\"].tolist())\n",
    "    t2 = torch.tensor(fg_subset[\"dft_value\"].tolist())\n",
    "    t2 = t2.squeeze()\n",
    "    r2score = R2Score()\n",
    "    sc = r2score(t1, t2)\n",
    "    # print(\"{}:\\t\\t\\t{}\".format(functional_group, sc))\n",
    "    # print with uniform spacing\n",
    "    if len(functional_group) >= 23:\n",
    "        print(\"{}:\\t{}\".format(functional_group, sc))\n",
    "    if len(functional_group) >= 15:\n",
    "        print(\"{}:\\t\\t{}\".format(functional_group, sc))\n",
    "    elif len(functional_group) >= 7:\n",
    "        print(\"{}:\\t\\t\\t{}\".format(functional_group, sc))\n",
    "    else:\n",
    "        print(\"{}:\\t\\t\\t\\t{}\".format(functional_group, sc))"
   ]
  },
  {
   "cell_type": "code",
   "execution_count": null,
   "metadata": {},
   "outputs": [],
   "source": []
  },
  {
   "cell_type": "code",
   "execution_count": null,
   "metadata": {},
   "outputs": [],
   "source": []
  }
 ],
 "metadata": {
  "kernelspec": {
   "display_name": "bondnet",
   "language": "python",
   "name": "python3"
  },
  "language_info": {
   "codemirror_mode": {
    "name": "ipython",
    "version": 3
   },
   "file_extension": ".py",
   "mimetype": "text/x-python",
   "name": "python",
   "nbconvert_exporter": "python",
   "pygments_lexer": "ipython3",
   "version": "3.11.8"
  },
  "orig_nbformat": 4
 },
 "nbformat": 4,
 "nbformat_minor": 2
}
